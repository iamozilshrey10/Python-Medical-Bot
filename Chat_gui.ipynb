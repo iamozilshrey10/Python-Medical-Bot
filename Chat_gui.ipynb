{
  "nbformat": 4,
  "nbformat_minor": 0,
  "metadata": {
    "colab": {
      "name": "Chat_gui.ipynb",
      "provenance": [],
      "collapsed_sections": []
    },
    "kernelspec": {
      "name": "python3",
      "display_name": "Python 3"
    }
  },
  "cells": [
    {
      "cell_type": "code",
      "metadata": {
        "id": "ELlEPOvIQkcb",
        "colab_type": "code",
        "colab": {}
      },
      "source": [
        "# Importing Modules \n",
        "\n",
        "import nltk\n",
        "from nltk.stem import WordNetLemmatizer \n",
        "lemmatizer = WordNetLemmatizer()\n",
        "\n",
        "import numpy as np\n",
        "import pickle \n",
        "import random\n",
        "\n",
        "from keras.models import load_model \n",
        "model = load_model('chat_model.h5')\n",
        "\n",
        "import json\n",
        "intents = json.loads(open('intents.json').read())\n",
        "words = pickle.load(open('Words.pkl','rb'))\n",
        "classes = pickle.load(open('Classes.pkl','rb'))"
      ],
      "execution_count": null,
      "outputs": []
    },
    {
      "cell_type": "code",
      "metadata": {
        "id": "bvevnzdGNV4t",
        "colab_type": "code",
        "colab": {}
      },
      "source": [
        "#Perfrom Text Preprocessing and Predicting the Class \n",
        "\n",
        "def clean_sentence(sentence):\n",
        "  sentence_words = nltk.word_tokenize(sentence)  #Splitting words into array\n",
        "  sentence_words = [lemmatizer.lemmatize(word.lower()) for word in sentence_words]\n",
        "  return sentence_words\n",
        "\n",
        "def bag_of_words(sentence, words, show_details = True):\n",
        "  sentence_words = clean_sentence(sentence)\n",
        "  bow = [0] * len(words)\n",
        "  for s in sentence_words:\n",
        "    for i,w in enumerate(words):\n",
        "      if w == s:\n",
        "        bow[i] == 1\n",
        "        if show_details:\n",
        "          print(\"Found : %s\" % w)\n",
        "  retrun(np.array(bow))\n",
        "\n",
        "def predict_class(sentence, model):\n",
        "  p = bag_of_words(sentence, words, show_details=False)\n",
        "  r = model.predict(np.array([p]))[0]\n",
        "  err_thresh = 0.25\n",
        "  results = [[i,r] for i,r in enumerate(r) if r>err_thresh]\n",
        "  results.sort(key=lambda x:x[1], reverse =True)\n",
        "  return_list = []\n",
        "  for r in results:\n",
        "    return_list.append ({\"intent\" : classes[r[0]], \"probability\" : str(r[1])})\n",
        "  return return_list   "
      ],
      "execution_count": null,
      "outputs": []
    },
    {
      "cell_type": "code",
      "metadata": {
        "id": "9eweTZYUjTuJ",
        "colab_type": "code",
        "colab": {}
      },
      "source": [
        "#Getting random response from intents \n",
        "\n",
        "def get_res(ints, intents_json):\n",
        "  tag = ints[0]['intent']\n",
        "  list_of_intents = intents_json['intent']\n",
        "  for i in list_of_intents:\n",
        "    if i['tag'] == tag:\n",
        "      result = random.choice(i['responses'])\n",
        "      break\n",
        "  return result  \n",
        "\n",
        "def chat_res(text):\n",
        "  ints = predict_class(text, model)\n",
        "  res = get_res(ints, intents)\n",
        "  return res    "
      ],
      "execution_count": null,
      "outputs": []
    },
    {
      "cell_type": "code",
      "metadata": {
        "id": "apmJL9cHkKkI",
        "colab_type": "code",
        "colab": {}
      },
      "source": [
        "#Building the GUI with tkinter \n",
        "\n",
        "import tkinter\n",
        "from tkinter import *\n",
        "\n",
        "def send():\n",
        "  msg = EntryBox.get(\"1.0\",'end-1c').strip()\n",
        "  EntryBox.delete(\"0.0\", END)\n",
        "\n",
        "  if msg != '':\n",
        "    ChatLog.config(state=NORMAL)\n",
        "    ChatLog.insert(END, \"You : \" + msg + '\\n\\n')\n",
        "    ChatLog.config(foreground = \"#442265\", font =(\"Verdana\", 12))\n",
        "\n",
        "    res = chat_res(msg)\n",
        "    ChatLog.insert(END, \"Bot : \" + res + '\\n\\n')\n",
        "    ChatLog.config(state=DISABLED)\n",
        "    ChatLog.yview(END)\n",
        "\n",
        "base = Tk()\n",
        "base.title(\"Hello\")\n",
        "base.geometry(\"400x500\")\n",
        "base.resizable(width=FALSE, height=FALSE)\n",
        "\n",
        "#Create Chat window\n",
        "\n",
        "ChatLog = Text(base, bd=0, bg=\"white\", height=\"8\", width=\"50\", font=\"Arial\",)\n",
        "ChatLog.config(state=DISABLED)\n",
        "\n",
        "#Bind scrollbar to Chat window\n",
        "\n",
        "scrollbar = Scrollbar(base, command=ChatLog.yview, cursor=\"heart\")\n",
        "ChatLog['yscrollcommand'] = scrollbar.set\n",
        "\n",
        "#Create Button to send message\n",
        "\n",
        "SendButton = Button(base, font=(\"Verdana\",12,'bold'), text=\"Send\", width=\"12\", height=5,\n",
        "                    bd=0, bg=\"#32de97\", activebackground=\"#3c9d9b\",fg='#ffffff',\n",
        "                    command= send )\n",
        "\n",
        "#Create the box to enter message\n",
        "\n",
        "EntryBox = Text(base, bd=0, bg=\"white\",width=\"29\", height=\"5\", font=\"Arial\")\n",
        "#EntryBox.bind(\"<Return>\", send)\n",
        "\n",
        "#Place all components on the screen\n",
        "\n",
        "scrollbar.place(x=376,y=6, height=386)\n",
        "ChatLog.place(x=6,y=6, height=386, width=370)\n",
        "EntryBox.place(x=128, y=401, height=90, width=265)\n",
        "SendButton.place(x=6, y=401, height=90)\n",
        "base.mainloop()\n"
      ],
      "execution_count": null,
      "outputs": []
    }
  ]
}